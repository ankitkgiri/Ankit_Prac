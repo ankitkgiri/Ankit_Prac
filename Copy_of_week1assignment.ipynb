{
  "nbformat": 4,
  "nbformat_minor": 0,
  "metadata": {
    "colab": {
      "name": "Copy of week1assignment.ipynb",
      "provenance": [],
      "include_colab_link": true
    },
    "kernelspec": {
      "name": "python3",
      "display_name": "Python 3"
    }
  },
  "cells": [
    {
      "cell_type": "markdown",
      "metadata": {
        "id": "view-in-github",
        "colab_type": "text"
      },
      "source": [
        "<a href=\"https://colab.research.google.com/github/ankitkgiri/Ankit_Prac/blob/master/Copy_of_week1assignment.ipynb\" target=\"_parent\"><img src=\"https://colab.research.google.com/assets/colab-badge.svg\" alt=\"Open In Colab\"/></a>"
      ]
    },
    {
      "cell_type": "code",
      "metadata": {
        "id": "F-6bE0dYcBgA",
        "colab_type": "code",
        "colab": {}
      },
      "source": [
        "## Import stuff\n",
        " \n",
        "import numpy as np\n",
        "from sklearn import datasets, linear_model, metrics"
      ],
      "execution_count": 0,
      "outputs": []
    },
    {
      "cell_type": "code",
      "metadata": {
        "id": "gK71NIhMcEs5",
        "colab_type": "code",
        "colab": {}
      },
      "source": [
        "## Load the diabetes dataset\n",
        "diabetes = datasets.load_diabetes()\n",
        "diabetes_X = diabetes.data # matrix of dimensions 442x10\n",
        " \n",
        "# Split the data into training/testing sets\n",
        "diabetes_X_train = diabetes_X[:-20]\n",
        "diabetes_X_test = diabetes_X[-20:]\n",
        " \n",
        "# Split the targets into training/testing sets\n",
        "diabetes_y_train = diabetes.target[:-20]\n",
        "diabetes_y_test = diabetes.target[-20:]\n",
        "\n"
      ],
      "execution_count": 0,
      "outputs": []
    },
    {
      "cell_type": "code",
      "metadata": {
        "id": "XJTg22ybcHsl",
        "colab_type": "code",
        "colab": {}
      },
      "source": [
        "# train\n",
        "X = diabetes_X_train\n",
        "y = diabetes_y_train\n",
        "\n",
        "\n",
        "# train: init\n",
        "W = np.zeros(X.size//len(X))\n",
        "b = 0\n",
        "\n",
        "\n",
        "learning_rate = 0.1\n",
        "epochs = 200000\n",
        " \n",
        "# train: gradient descent\n",
        "for i in range(epochs):\n",
        "    # calculate predictions\n",
        "    pred= np.dot(X,W)+b\n",
        "    cost=0\n",
        "    # calculate error and cost (mean squared error)\n",
        "    sq_error = (pred - y)**2\n",
        "    cost = 1/(2*len(sq_error))*sq_error.sum()\n",
        "    \n",
        "\n",
        "    \n",
        "    # calculate gradients\n",
        "    grad= np.dot(-X.T,(y-pred))\n",
        "    \n",
        "    grad/=len(X)\n",
        "    \n",
        "    grad=grad*learning_rate\n",
        "    b_grad=-(y-pred).sum()/len(X)\n",
        "    b_grad=learning_rate*b_grad\n",
        "    \n",
        "    # update parameters\n",
        "    W-=grad\n",
        "    b-=b_grad\n",
        "    # diagnostic output\n",
        "    if i % 5000 == 0: print(\"Epoch %d: %f\" % (i, cost))"
      ],
      "execution_count": 0,
      "outputs": []
    },
    {
      "cell_type": "code",
      "metadata": {
        "colab_type": "code",
        "id": "JzMrsMTc0LkK",
        "colab": {}
      },
      "source": [
        "# test\n",
        "X = diabetes_X_test\n",
        "y = diabetes_y_test\n",
        "\n",
        "pred= np.dot(X,W)+b\n",
        "sq_error= (y - pred)**2\n",
        "cost = 1/(2*len(sq_error))*sq_error.sum()\n",
        "\n",
        "\n",
        "    \n",
        "\n",
        "print('Coefficients: \\n', W)\n",
        "print(\"Mean squared error: %.2f\" % cost)\n",
        "print(\"=\"*120)"
      ],
      "execution_count": 0,
      "outputs": []
    }
  ]
}